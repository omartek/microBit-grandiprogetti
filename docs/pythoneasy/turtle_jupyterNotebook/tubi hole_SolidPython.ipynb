{
 "cells": [
  {
   "cell_type": "code",
   "execution_count": 1,
   "metadata": {},
   "outputs": [],
   "source": [
    "from solid import *\n",
    "from solid.utils import *\n",
    "import viewscad\n",
    "\n",
    "r = viewscad.Renderer()"
   ]
  },
  {
   "cell_type": "code",
   "execution_count": 17,
   "metadata": {},
   "outputs": [
    {
     "data": {
      "application/vnd.jupyter.widget-view+json": {
       "model_id": "d20e8402046b40bf81f4726a6aab05bd",
       "version_major": 2,
       "version_minor": 0
      },
      "text/plain": [
       "Renderer(background='#cccc88', background_opacity=0.0, camera=PerspectiveCamera(children=(DirectionalLight(int…"
      ]
     },
     "metadata": {},
     "output_type": "display_data"
    },
    {
     "data": {
      "application/vnd.jupyter.widget-view+json": {
       "model_id": "bbc20312600f49f693182bc3ae003166",
       "version_major": 2,
       "version_minor": 0
      },
      "text/plain": [
       "HTML(value='\\n<svg width=\"600\" height=\"30\">\\n<rect width=\"20\" height=\"20\" x=\"300\" y=\"0\" style=\"fill:none;strok…"
      ]
     },
     "metadata": {},
     "output_type": "display_data"
    }
   ],
   "source": [
    "pipe_od = 12\n",
    "pipe_id = 10\n",
    "seg_length = 30\n",
    "\n",
    "outer = cylinder(r=pipe_od, h=seg_length, center=True)\n",
    "inner = cylinder(r=pipe_id, h=seg_length + 2, center=True)\n",
    "\n",
    "# By declaring that the internal void of pipe_a should\n",
    "# explicitly remain empty, the combination of both pipes\n",
    "# is empty all the way through.\n",
    "\n",
    "# Any OpenSCAD / SolidPython object can be declared a hole(),\n",
    "# and after that will always be empty\n",
    "pipe_a = outer - hole()(inner)\n",
    "# Note that \"pipe_a = outer - hole()(inner)\" would work identically;\n",
    "# inner will always be subtracted now that it's a hole\n",
    "pipe_b = rotate(a=90, v=FORWARD_VEC)(pipe_a)\n",
    "\n",
    "r.render(pipe_a + pipe_b)"
   ]
  },
  {
   "cell_type": "code",
   "execution_count": 19,
   "metadata": {},
   "outputs": [
    {
     "name": "stdout",
     "output_type": "stream",
     "text": [
      "0\n",
      "1\n"
     ]
    },
    {
     "data": {
      "application/vnd.jupyter.widget-view+json": {
       "model_id": "891c2492ad4247b899f12cd8257d3a97",
       "version_major": 2,
       "version_minor": 0
      },
      "text/plain": [
       "Renderer(background='#cccc88', background_opacity=0.0, camera=PerspectiveCamera(children=(DirectionalLight(int…"
      ]
     },
     "metadata": {},
     "output_type": "display_data"
    },
    {
     "data": {
      "application/vnd.jupyter.widget-view+json": {
       "model_id": "5505ef964c2241f1a6cbf267d1845415",
       "version_major": 2,
       "version_minor": 0
      },
      "text/plain": [
       "HTML(value='\\n<svg width=\"600\" height=\"30\">\\n<rect width=\"20\" height=\"20\" x=\"300\" y=\"0\" style=\"fill:none;strok…"
      ]
     },
     "metadata": {},
     "output_type": "display_data"
    }
   ],
   "source": [
    "nome = linear_extrude(1)(text(\"ciao\",10))\n",
    "\n",
    "for i in range(2):\n",
    "    nome += up(3+3*i)(linear_extrude(1)(text(\"ciao\",10)))\n",
    "    print (i)\n",
    "\n",
    "r.render(nome)"
   ]
  }
 ],
 "metadata": {
  "kernelspec": {
   "display_name": "Python 3",
   "language": "python",
   "name": "python3"
  },
  "language_info": {
   "codemirror_mode": {
    "name": "ipython",
    "version": 3
   },
   "file_extension": ".py",
   "mimetype": "text/x-python",
   "name": "python",
   "nbconvert_exporter": "python",
   "pygments_lexer": "ipython3",
   "version": "3.6.6"
  }
 },
 "nbformat": 4,
 "nbformat_minor": 2
}
