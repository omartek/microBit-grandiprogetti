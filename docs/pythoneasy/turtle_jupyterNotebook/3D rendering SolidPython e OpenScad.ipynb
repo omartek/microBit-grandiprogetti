{
 "cells": [
  {
   "cell_type": "markdown",
   "metadata": {},
   "source": [
    "## Creiamo un oggetto"
   ]
  },
  {
   "cell_type": "code",
   "execution_count": 2,
   "metadata": {},
   "outputs": [],
   "source": [
    "from solid import *\n",
    "import viewscad\n",
    "\n",
    "r = viewscad.Renderer()"
   ]
  },
  {
   "cell_type": "code",
   "execution_count": 3,
   "metadata": {},
   "outputs": [
    {
     "data": {
      "application/vnd.jupyter.widget-view+json": {
       "model_id": "89f3f6cf4b244cb594dde1014c95d147",
       "version_major": 2,
       "version_minor": 0
      },
      "text/plain": [
       "Renderer(background='#cccc88', background_opacity=0.0, camera=PerspectiveCamera(children=(DirectionalLight(int…"
      ]
     },
     "metadata": {},
     "output_type": "display_data"
    },
    {
     "data": {
      "application/vnd.jupyter.widget-view+json": {
       "model_id": "aa4009eabb714141934fad73e0a5e474",
       "version_major": 2,
       "version_minor": 0
      },
      "text/plain": [
       "HTML(value='\\n<svg width=\"600\" height=\"30\">\\n<rect width=\"20\" height=\"20\" x=\"300\" y=\"0\" style=\"fill:none;strok…"
      ]
     },
     "metadata": {},
     "output_type": "display_data"
    }
   ],
   "source": [
    "scad_code = '''\n",
    "minkowski() {\n",
    "    translate([0, 0, 1]) cylinder(r=3, h=1.5);\n",
    "    sphere(r=0.4);\n",
    "}\n",
    "'''\n",
    "r.render(scad_code)"
   ]
  },
  {
   "cell_type": "code",
   "execution_count": 4,
   "metadata": {},
   "outputs": [
    {
     "data": {
      "application/vnd.jupyter.widget-view+json": {
       "model_id": "2aca4af11e1a416e97c0d5125e2b6eab",
       "version_major": 2,
       "version_minor": 0
      },
      "text/plain": [
       "Renderer(background='#cccc88', background_opacity=0.0, camera=PerspectiveCamera(children=(DirectionalLight(int…"
      ]
     },
     "metadata": {},
     "output_type": "display_data"
    },
    {
     "data": {
      "application/vnd.jupyter.widget-view+json": {
       "model_id": "e40d83b3e8c0427ea9e317b9446d4561",
       "version_major": 2,
       "version_minor": 0
      },
      "text/plain": [
       "HTML(value='\\n<svg width=\"600\" height=\"30\">\\n<rect width=\"20\" height=\"20\" x=\"300\" y=\"0\" style=\"fill:none;strok…"
      ]
     },
     "metadata": {},
     "output_type": "display_data"
    }
   ],
   "source": [
    "c = cylinder(r=5, h=2)\n",
    "c -= minkowski() (translate([0, 0, 1]) (cylinder(r=3, h=1.5)), sphere(r=0.2))\n",
    "c -= cylinder(r=1, h=3, center=True)\n",
    "c -= translate([0, -1, 0]) (cube([6, 2, 3]))\n",
    "r.render(c)"
   ]
  },
  {
   "cell_type": "code",
   "execution_count": 5,
   "metadata": {
    "scrolled": true
   },
   "outputs": [
    {
     "data": {
      "application/vnd.jupyter.widget-view+json": {
       "model_id": "6e01e435b8ae4c1b870ee60f155954f9",
       "version_major": 2,
       "version_minor": 0
      },
      "text/plain": [
       "Renderer(background='#cccc88', background_opacity=0.0, camera=PerspectiveCamera(children=(DirectionalLight(int…"
      ]
     },
     "metadata": {},
     "output_type": "display_data"
    },
    {
     "data": {
      "application/vnd.jupyter.widget-view+json": {
       "model_id": "c32b9ccf20454f60962e25c3c64d0d41",
       "version_major": 2,
       "version_minor": 0
      },
      "text/plain": [
       "HTML(value='\\n<svg width=\"600\" height=\"30\">\\n<rect width=\"20\" height=\"20\" x=\"300\" y=\"0\" style=\"fill:none;strok…"
      ]
     },
     "metadata": {},
     "output_type": "display_data"
    }
   ],
   "source": [
    "scad_code = '''\n",
    "difference() {\n",
    "    cube([1,1,5]);\n",
    "    #sphere(r=2);\n",
    "}\n",
    "'''\n",
    "r.render(scad_code)"
   ]
  },
  {
   "cell_type": "code",
   "execution_count": null,
   "metadata": {},
   "outputs": [],
   "source": []
  }
 ],
 "metadata": {
  "kernelspec": {
   "display_name": "Python 3",
   "language": "python",
   "name": "python3"
  },
  "language_info": {
   "codemirror_mode": {
    "name": "ipython",
    "version": 3
   },
   "file_extension": ".py",
   "mimetype": "text/x-python",
   "name": "python",
   "nbconvert_exporter": "python",
   "pygments_lexer": "ipython3",
   "version": "3.6.6"
  }
 },
 "nbformat": 4,
 "nbformat_minor": 2
}
