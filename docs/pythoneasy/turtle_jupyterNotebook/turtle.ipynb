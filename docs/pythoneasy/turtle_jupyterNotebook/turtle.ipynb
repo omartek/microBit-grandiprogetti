{
 "cells": [
  {
   "cell_type": "markdown",
   "metadata": {},
   "source": [
    "# Geometria della tartaruga con Python\n",
    "\n",
    "Link agli esercizi poposti da Trinket.io\n",
    "https://hourofpython.trinket.io/a-visual-introduction-to-python#/welcome/an-hour-of-code\n",
    "\n",
    "Link alla documentazione ufficiale della libreria Tk\n",
    "https://docs.python.org/3/library/turtle.html"
   ]
  },
  {
   "cell_type": "markdown",
   "metadata": {},
   "source": [
    "## Importare la libreria di comandi di disegno e creare la prima tartaruga *t\n",
    "\n",
    "Importare la libreria e creare la tartaruga usando il metodo Turtle() contenuto nella libreria di comandi turtle appena importata.\n",
    "\n",
    "**t** è un nome a piacere. "
   ]
  },
  {
   "cell_type": "code",
   "execution_count": 10,
   "metadata": {},
   "outputs": [],
   "source": [
    "import turtle\n",
    "\n",
    "t=turtle.Turtle()\n"
   ]
  },
  {
   "cell_type": "code",
   "execution_count": null,
   "metadata": {},
   "outputs": [],
   "source": []
  },
  {
   "cell_type": "code",
   "execution_count": 11,
   "metadata": {},
   "outputs": [],
   "source": [
    "t.clear()\n",
    "t.speed(400)\n",
    "t.goto(0,0)\n",
    "t.color('red', 'yellow')\n",
    "t.begin_fill()\n",
    "while True:\n",
    "    t.forward(200)\n",
    "    t.left(170)\n",
    "    if abs(t.pos()) < 1:\n",
    "        break\n",
    "t.end_fill()"
   ]
  },
  {
   "cell_type": "code",
   "execution_count": 12,
   "metadata": {},
   "outputs": [],
   "source": [
    "t.goto(-50,0)"
   ]
  },
  {
   "cell_type": "code",
   "execution_count": 13,
   "metadata": {},
   "outputs": [],
   "source": [
    "t.speed(100)\n",
    "colours=[\"red\",\"blue\",\"yellow\",\"brown\",\"black\",\"purple\",\"green\"]\n",
    "\n",
    "t.penup(); t.left(90); t.forward(200);t.right(90);t.pendown()\n",
    "for i in range (0,18):\n",
    "    t.pencolor(colours[i%7])\n",
    "    t.right(20)\n",
    "    t.forward(50)\n",
    "\n",
    "t.right(180)\n",
    "t.home()"
   ]
  },
  {
   "cell_type": "code",
   "execution_count": null,
   "metadata": {},
   "outputs": [],
   "source": []
  }
 ],
 "metadata": {
  "kernelspec": {
   "display_name": "Python 3",
   "language": "python",
   "name": "python3"
  },
  "language_info": {
   "codemirror_mode": {
    "name": "ipython",
    "version": 3
   },
   "file_extension": ".py",
   "mimetype": "text/x-python",
   "name": "python",
   "nbconvert_exporter": "python",
   "pygments_lexer": "ipython3",
   "version": "3.7.2"
  }
 },
 "nbformat": 4,
 "nbformat_minor": 2
}
