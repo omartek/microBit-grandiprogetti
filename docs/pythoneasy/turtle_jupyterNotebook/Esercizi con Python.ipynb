{
 "cells": [
  {
   "cell_type": "markdown",
   "metadata": {},
   "source": [
    "# Esercizi con Python"
   ]
  },
  {
   "cell_type": "code",
   "execution_count": 77,
   "metadata": {},
   "outputs": [],
   "source": [
    "import random"
   ]
  },
  {
   "cell_type": "code",
   "execution_count": 78,
   "metadata": {},
   "outputs": [],
   "source": [
    "a=2\n",
    "b=9"
   ]
  },
  {
   "cell_type": "code",
   "execution_count": 79,
   "metadata": {},
   "outputs": [
    {
     "name": "stdout",
     "output_type": "stream",
     "text": [
      "18\n"
     ]
    }
   ],
   "source": [
    "print(a*b)"
   ]
  },
  {
   "cell_type": "code",
   "execution_count": 80,
   "metadata": {},
   "outputs": [
    {
     "name": "stdout",
     "output_type": "stream",
     "text": [
      "0\n",
      "1\n",
      "2\n",
      "3\n",
      "4\n",
      "5\n",
      "6\n",
      "7\n"
     ]
    }
   ],
   "source": [
    "for i in range(8):\n",
    "    print(i)"
   ]
  },
  {
   "cell_type": "code",
   "execution_count": 81,
   "metadata": {},
   "outputs": [
    {
     "name": "stdout",
     "output_type": "stream",
     "text": [
      "come ti chiami? omar\n"
     ]
    }
   ],
   "source": [
    "a=input(\"come ti chiami? \")"
   ]
  },
  {
   "cell_type": "code",
   "execution_count": 82,
   "metadata": {},
   "outputs": [
    {
     "name": "stdout",
     "output_type": "stream",
     "text": [
      "Ciao omar\n"
     ]
    }
   ],
   "source": [
    "print(\"Ciao \" + a)"
   ]
  },
  {
   "cell_type": "code",
   "execution_count": 83,
   "metadata": {},
   "outputs": [],
   "source": [
    "i=random.randint(1,10)"
   ]
  },
  {
   "cell_type": "code",
   "execution_count": 84,
   "metadata": {},
   "outputs": [
    {
     "name": "stdout",
     "output_type": "stream",
     "text": [
      " __\n",
      "|  |\n",
      "|  |\n",
      "|__|\n"
     ]
    }
   ],
   "source": [
    "print (\" __\")\n",
    "print (\"|  |\")\n",
    "print (\"|  |\")\n",
    "print (\"|__|\")"
   ]
  },
  {
   "cell_type": "code",
   "execution_count": 85,
   "metadata": {},
   "outputs": [
    {
     "name": "stdout",
     "output_type": "stream",
     "text": [
      "\\  /\n",
      " \\/\n",
      " /\\\n",
      "o  o\n"
     ]
    }
   ],
   "source": [
    "print (\"\\  /\")\n",
    "print (\" \\/\")\n",
    "print (\" /\\\\\")\n",
    "print (\"o  o\")"
   ]
  },
  {
   "cell_type": "code",
   "execution_count": 86,
   "metadata": {},
   "outputs": [
    {
     "name": "stdout",
     "output_type": "stream",
     "text": [
      " ()\n",
      "(__)\n"
     ]
    }
   ],
   "source": [
    "print (\" ()\")\n",
    "print (\"(__)\")"
   ]
  },
  {
   "cell_type": "code",
   "execution_count": 87,
   "metadata": {},
   "outputs": [],
   "source": [
    "carte=[\" __\",\"|  |\",\"|  |\",\"|__|\",\"\\  /\",\" \\/\",\" /\\\\\",\"o  o\",\"\",\"\",\" ()\",\"(__)\"]\n"
   ]
  },
  {
   "cell_type": "code",
   "execution_count": 88,
   "metadata": {},
   "outputs": [
    {
     "name": "stdout",
     "output_type": "stream",
     "text": [
      "0\n"
     ]
    }
   ],
   "source": [
    "carta_estr=random.randint(0,2)\n",
    "print (carta_estr)"
   ]
  },
  {
   "cell_type": "code",
   "execution_count": 89,
   "metadata": {
    "scrolled": true
   },
   "outputs": [
    {
     "name": "stdout",
     "output_type": "stream",
     "text": [
      " __\n",
      "|  |\n",
      "|  |\n",
      "|__|\n"
     ]
    }
   ],
   "source": [
    "for i in range(4):\n",
    "    print (carte[(carta_estr*4)+i])"
   ]
  },
  {
   "cell_type": "code",
   "execution_count": 115,
   "metadata": {},
   "outputs": [
    {
     "data": {
      "text/plain": [
       "[0, 11, 8, 13, 14, 10, 13, 12, 4, 11, 4]"
      ]
     },
     "execution_count": 115,
     "metadata": {},
     "output_type": "execute_result"
    }
   ],
   "source": [
    "lista_estr=[0,0,0,0,0,0,0,0,0,0,0]\n",
    "for i in range(100):\n",
    "    estr=random.randint(1,10)\n",
    "    lista_estr[estr] += 1\n",
    "lista_estr"
   ]
  }
 ],
 "metadata": {
  "kernelspec": {
   "display_name": "Python 3",
   "language": "python",
   "name": "python3"
  },
  "language_info": {
   "codemirror_mode": {
    "name": "ipython",
    "version": 3
   },
   "file_extension": ".py",
   "mimetype": "text/x-python",
   "name": "python",
   "nbconvert_exporter": "python",
   "pygments_lexer": "ipython3",
   "version": "3.6.6"
  }
 },
 "nbformat": 4,
 "nbformat_minor": 2
}
