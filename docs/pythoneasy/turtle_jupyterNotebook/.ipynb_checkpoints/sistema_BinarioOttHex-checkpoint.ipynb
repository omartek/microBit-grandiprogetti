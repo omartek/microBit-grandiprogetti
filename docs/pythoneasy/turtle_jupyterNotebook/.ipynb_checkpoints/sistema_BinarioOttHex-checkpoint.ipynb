{
 "cells": [
  {
   "cell_type": "markdown",
   "metadata": {},
   "source": [
    "# Conversione di numeri:\n",
    "# il sistema binario, ottale ed esadecimale"
   ]
  },
  {
   "cell_type": "code",
   "execution_count": 1,
   "metadata": {},
   "outputs": [
    {
     "name": "stdout",
     "output_type": "stream",
     "text": [
      "   101\n",
      "110111\n",
      "111111\n"
     ]
    }
   ],
   "source": [
    "nome = 'alessandro'\n",
    "spazi = ''\n",
    "a=(str(bin(5)))\n",
    "b=(bin(55))\n",
    "c=(bin(55+8))\n",
    "lungh=max(len(a),len(b),len(c))\n",
    "#print(lungh)\n",
    "for i in range(lungh-len(a)):\n",
    "  spazi = spazi + ' '\n",
    "print(spazi + a[2:])\n",
    "\n",
    "spazi = ''\n",
    "for i in range(lungh-len(b)):\n",
    "  spazi = spazi + ' '\n",
    "print(spazi + b[2:])\n",
    "\n",
    "spazi = ''\n",
    "for i in range(lungh-len(c)):\n",
    "  spazi = spazi + ' '\n",
    "print(spazi + c[2:])\n",
    "  "
   ]
  },
  {
   "cell_type": "code",
   "execution_count": null,
   "metadata": {},
   "outputs": [],
   "source": []
  }
 ],
 "metadata": {
  "kernelspec": {
   "display_name": "Python 3",
   "language": "python",
   "name": "python3"
  },
  "language_info": {
   "codemirror_mode": {
    "name": "ipython",
    "version": 3
   },
   "file_extension": ".py",
   "mimetype": "text/x-python",
   "name": "python",
   "nbconvert_exporter": "python",
   "pygments_lexer": "ipython3",
   "version": "3.7.2"
  }
 },
 "nbformat": 4,
 "nbformat_minor": 2
}
