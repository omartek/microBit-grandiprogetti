{
 "cells": [
  {
   "cell_type": "code",
   "execution_count": 14,
   "metadata": {},
   "outputs": [],
   "source": [
    "# software per realizzare una calcolatrice\n",
    "\n",
    "# variabili necessarie\n",
    "val1=0\n",
    "val2=0\n",
    "operazione = '0'"
   ]
  },
  {
   "cell_type": "code",
   "execution_count": 16,
   "metadata": {},
   "outputs": [
    {
     "name": "stdout",
     "output_type": "stream",
     "text": [
      "inserisci il primo valore: 10\n",
      "inserisci il secondo valore: 20\n",
      "operazione da eseguire:+\n"
     ]
    }
   ],
   "source": [
    "#chiedi i dati dell'oprazione e memorizzali in una variabile\n",
    "val1 = float(input('inserisci il primo valore: '))\n",
    "operazione = input('operazione da eseguire:')\n",
    "val2 = float(input('inserisci il secondo valore: '))"
   ]
  },
  {
   "cell_type": "code",
   "execution_count": 17,
   "metadata": {},
   "outputs": [],
   "source": [
    "    #verifica quale operazione si vuole eseguire\n",
    "    if operazione == '+':\n",
    "     risultato = val1 + val2\n",
    "    if operazione == '-':\n",
    "     risultato = val1 - val2\n",
    "    if operazione == '*':\n",
    "     risultato = val1 * val2\n",
    "    if operazione == '/':\n",
    "     risultato = val1 / val2"
   ]
  },
  {
   "cell_type": "code",
   "execution_count": 18,
   "metadata": {},
   "outputs": [
    {
     "name": "stdout",
     "output_type": "stream",
     "text": [
      "Ecco il risultato: 30.0\n"
     ]
    }
   ],
   "source": [
    "    #stampa il risultato a video\n",
    "    print('Ecco il risultato: ' + str(risultato))"
   ]
  },
  {
   "cell_type": "code",
   "execution_count": null,
   "metadata": {},
   "outputs": [],
   "source": [
    "while True:\n",
    "    #chiedi i dati dell'oprazione e memorizzali in una variabile\n",
    "    val1 = float(input('inserisci il primo valore: '))\n",
    "    operazione = input('operazione da eseguire:')\n",
    "    val2 = float(input('inserisci il secondo valore: '))\n",
    "    if operazione == '+':\n",
    "     risultato = val1 + val2\n",
    "    if operazione == '-':\n",
    "     risultato = val1 - val2\n",
    "    if operazione == '*':\n",
    "     risultato = val1 * val2\n",
    "    if operazione == '/':\n",
    "     risultato = val1 / val2\n",
    "    #stampa il risultato a video\n",
    "    print('Ecco il risultato: ' + str(risultato))\n"
   ]
  }
 ],
 "metadata": {
  "kernelspec": {
   "display_name": "Python 3",
   "language": "python",
   "name": "python3"
  },
  "language_info": {
   "codemirror_mode": {
    "name": "ipython",
    "version": 3
   },
   "file_extension": ".py",
   "mimetype": "text/x-python",
   "name": "python",
   "nbconvert_exporter": "python",
   "pygments_lexer": "ipython3",
   "version": "3.6.7"
  }
 },
 "nbformat": 4,
 "nbformat_minor": 2
}
